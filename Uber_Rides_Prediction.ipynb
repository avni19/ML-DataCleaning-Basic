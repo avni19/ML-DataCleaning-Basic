{
  "nbformat": 4,
  "nbformat_minor": 0,
  "metadata": {
    "colab": {
      "name": "Uber Rides Prediction.ipynb",
      "provenance": [],
      "authorship_tag": "ABX9TyPR/ey6PvKW3wBfhHEp7N7t",
      "include_colab_link": true
    },
    "kernelspec": {
      "name": "python3",
      "display_name": "Python 3"
    }
  },
  "cells": [
    {
      "cell_type": "markdown",
      "metadata": {
        "id": "view-in-github",
        "colab_type": "text"
      },
      "source": [
        "<a href=\"https://colab.research.google.com/github/avni19/ML-DataCleaning-Basic/blob/master/Uber_Rides_Prediction.ipynb\" target=\"_parent\"><img src=\"https://colab.research.google.com/assets/colab-badge.svg\" alt=\"Open In Colab\"/></a>"
      ]
    },
    {
      "cell_type": "code",
      "metadata": {
        "id": "IvwaMClIa-qR",
        "colab_type": "code",
        "colab": {}
      },
      "source": [
        "import numpy as np\n",
        "import pandas as pd\n",
        "import matplotlib.pyplot as plt\n",
        "import pickle\n",
        "from sklearn.model_selection import train_test_split\n",
        "from sklearn.linear_model import LinearRegression"
      ],
      "execution_count": 21,
      "outputs": []
    },
    {
      "cell_type": "code",
      "metadata": {
        "id": "jtEpEHHibLjc",
        "colab_type": "code",
        "colab": {
          "base_uri": "https://localhost:8080/",
          "height": 35
        },
        "outputId": "7f450b23-5434-4f15-a0e2-fe02b1545a49"
      },
      "source": [
        "from google.colab import drive \n",
        "drive.mount('/content/drive')\n",
        "\n"
      ],
      "execution_count": 7,
      "outputs": [
        {
          "output_type": "stream",
          "text": [
            "Drive already mounted at /content/drive; to attempt to forcibly remount, call drive.mount(\"/content/drive\", force_remount=True).\n"
          ],
          "name": "stdout"
        }
      ]
    },
    {
      "cell_type": "code",
      "metadata": {
        "id": "X6MRO6kkbPMc",
        "colab_type": "code",
        "colab": {}
      },
      "source": [
        "df = pd.read_excel(\"/content/drive/My Drive/Uber price prediction.xlsx\")"
      ],
      "execution_count": 14,
      "outputs": []
    },
    {
      "cell_type": "code",
      "metadata": {
        "id": "okT_p7RIbgOf",
        "colab_type": "code",
        "colab": {
          "base_uri": "https://localhost:8080/",
          "height": 202
        },
        "outputId": "ebc6d3f4-079c-4c8c-8c1d-35dc5fa97b82"
      },
      "source": [
        "df.head()"
      ],
      "execution_count": 15,
      "outputs": [
        {
          "output_type": "execute_result",
          "data": {
            "text/html": [
              "<div>\n",
              "<style scoped>\n",
              "    .dataframe tbody tr th:only-of-type {\n",
              "        vertical-align: middle;\n",
              "    }\n",
              "\n",
              "    .dataframe tbody tr th {\n",
              "        vertical-align: top;\n",
              "    }\n",
              "\n",
              "    .dataframe thead th {\n",
              "        text-align: right;\n",
              "    }\n",
              "</style>\n",
              "<table border=\"1\" class=\"dataframe\">\n",
              "  <thead>\n",
              "    <tr style=\"text-align: right;\">\n",
              "      <th></th>\n",
              "      <th>Priceperweek</th>\n",
              "      <th>Population</th>\n",
              "      <th>Monthlyincome</th>\n",
              "      <th>Averageparkingpermonth</th>\n",
              "      <th>Numberofweeklyriders</th>\n",
              "      <th>Unnamed: 5</th>\n",
              "    </tr>\n",
              "  </thead>\n",
              "  <tbody>\n",
              "    <tr>\n",
              "      <th>0</th>\n",
              "      <td>NaN</td>\n",
              "      <td>15</td>\n",
              "      <td>1800000</td>\n",
              "      <td>5800</td>\n",
              "      <td>50</td>\n",
              "      <td>192000</td>\n",
              "    </tr>\n",
              "    <tr>\n",
              "      <th>1</th>\n",
              "      <td>NaN</td>\n",
              "      <td>15</td>\n",
              "      <td>1790000</td>\n",
              "      <td>6200</td>\n",
              "      <td>50</td>\n",
              "      <td>190400</td>\n",
              "    </tr>\n",
              "    <tr>\n",
              "      <th>2</th>\n",
              "      <td>NaN</td>\n",
              "      <td>15</td>\n",
              "      <td>1780000</td>\n",
              "      <td>6400</td>\n",
              "      <td>60</td>\n",
              "      <td>191200</td>\n",
              "    </tr>\n",
              "    <tr>\n",
              "      <th>3</th>\n",
              "      <td>NaN</td>\n",
              "      <td>25</td>\n",
              "      <td>1778000</td>\n",
              "      <td>6500</td>\n",
              "      <td>60</td>\n",
              "      <td>177600</td>\n",
              "    </tr>\n",
              "    <tr>\n",
              "      <th>4</th>\n",
              "      <td>NaN</td>\n",
              "      <td>25</td>\n",
              "      <td>1750000</td>\n",
              "      <td>6550</td>\n",
              "      <td>60</td>\n",
              "      <td>176800</td>\n",
              "    </tr>\n",
              "  </tbody>\n",
              "</table>\n",
              "</div>"
            ],
            "text/plain": [
              "   Priceperweek  Population  ...  Numberofweeklyriders  Unnamed: 5\n",
              "0           NaN          15  ...                    50      192000\n",
              "1           NaN          15  ...                    50      190400\n",
              "2           NaN          15  ...                    60      191200\n",
              "3           NaN          25  ...                    60      177600\n",
              "4           NaN          25  ...                    60      176800\n",
              "\n",
              "[5 rows x 6 columns]"
            ]
          },
          "metadata": {
            "tags": []
          },
          "execution_count": 15
        }
      ]
    },
    {
      "cell_type": "code",
      "metadata": {
        "id": "eFyHwM0abhit",
        "colab_type": "code",
        "colab": {}
      },
      "source": [
        "df_x = df.iloc[:,0:-1].values \n",
        "df_y = df.iloc[:,-1].values"
      ],
      "execution_count": 17,
      "outputs": []
    },
    {
      "cell_type": "code",
      "metadata": {
        "id": "8AT_b28sduug",
        "colab_type": "code",
        "colab": {
          "base_uri": "https://localhost:8080/",
          "height": 503
        },
        "outputId": "a979c5ff-5f5c-41e9-f604-b64090b58d72"
      },
      "source": [
        "df_x"
      ],
      "execution_count": 18,
      "outputs": [
        {
          "output_type": "execute_result",
          "data": {
            "text/plain": [
              "array([[       nan, 1.5000e+01, 1.8000e+06, 5.8000e+03, 5.0000e+01],\n",
              "       [       nan, 1.5000e+01, 1.7900e+06, 6.2000e+03, 5.0000e+01],\n",
              "       [       nan, 1.5000e+01, 1.7800e+06, 6.4000e+03, 6.0000e+01],\n",
              "       [       nan, 2.5000e+01, 1.7780e+06, 6.5000e+03, 6.0000e+01],\n",
              "       [       nan, 2.5000e+01, 1.7500e+06, 6.5500e+03, 6.0000e+01],\n",
              "       [       nan, 2.5000e+01, 1.7400e+06, 6.5800e+03, 7.0000e+01],\n",
              "       [       nan, 2.5000e+01, 1.7250e+06, 8.2000e+03, 7.5000e+01],\n",
              "       [       nan, 3.0000e+01, 1.7250e+06, 8.6000e+03, 7.5000e+01],\n",
              "       [       nan, 3.0000e+01, 1.7200e+06, 8.8000e+03, 7.5000e+01],\n",
              "       [       nan, 3.0000e+01, 1.7050e+06, 9.2000e+03, 8.0000e+01],\n",
              "       [       nan, 3.0000e+01, 1.7100e+06, 9.6300e+03, 8.0000e+01],\n",
              "       [       nan, 4.0000e+01, 1.7000e+06, 1.0570e+04, 8.0000e+01],\n",
              "       [       nan, 4.0000e+01, 1.6950e+06, 1.1330e+04, 8.5000e+01],\n",
              "       [       nan, 4.0000e+01, 1.6950e+06, 1.1600e+04, 1.0000e+02],\n",
              "       [       nan, 4.0000e+01, 1.6900e+06, 1.1800e+04, 1.0500e+02],\n",
              "       [       nan, 4.0000e+01, 1.6300e+06, 1.1830e+04, 1.0500e+02],\n",
              "       [       nan, 6.5000e+01, 1.6400e+06, 1.2650e+04, 1.0500e+02],\n",
              "       [       nan, 1.0200e+02, 1.6350e+06, 1.3000e+04, 1.1000e+02],\n",
              "       [       nan, 7.5000e+01, 1.6300e+06, 1.3224e+04, 1.2500e+02],\n",
              "       [       nan, 7.5000e+01, 1.6200e+06, 1.3766e+04, 1.3000e+02],\n",
              "       [       nan, 7.5000e+01, 1.6150e+06, 1.4010e+04, 1.5000e+02],\n",
              "       [       nan, 8.0000e+01, 1.6050e+06, 1.4468e+04, 1.5500e+02],\n",
              "       [       nan, 8.6000e+01, 1.5900e+06, 1.5000e+04, 1.6500e+02],\n",
              "       [       nan, 9.8000e+01, 1.5950e+06, 1.5200e+04, 1.7500e+02],\n",
              "       [       nan, 8.7000e+01, 1.5900e+06, 1.5600e+04, 1.7500e+02],\n",
              "       [       nan, 7.7000e+01, 1.6000e+06, 1.6000e+04, 1.9000e+02],\n",
              "       [       nan, 6.3000e+01, 1.6100e+06, 1.6200e+04, 2.0000e+02]])"
            ]
          },
          "metadata": {
            "tags": []
          },
          "execution_count": 18
        }
      ]
    },
    {
      "cell_type": "code",
      "metadata": {
        "id": "DiMZ7fYqdxwy",
        "colab_type": "code",
        "colab": {
          "base_uri": "https://localhost:8080/",
          "height": 202
        },
        "outputId": "730f3e0d-a026-483c-90c2-480fa672a60c"
      },
      "source": [
        "df_y\n",
        "df.head()"
      ],
      "execution_count": 27,
      "outputs": [
        {
          "output_type": "execute_result",
          "data": {
            "text/html": [
              "<div>\n",
              "<style scoped>\n",
              "    .dataframe tbody tr th:only-of-type {\n",
              "        vertical-align: middle;\n",
              "    }\n",
              "\n",
              "    .dataframe tbody tr th {\n",
              "        vertical-align: top;\n",
              "    }\n",
              "\n",
              "    .dataframe thead th {\n",
              "        text-align: right;\n",
              "    }\n",
              "</style>\n",
              "<table border=\"1\" class=\"dataframe\">\n",
              "  <thead>\n",
              "    <tr style=\"text-align: right;\">\n",
              "      <th></th>\n",
              "      <th>Priceperweek</th>\n",
              "      <th>Population</th>\n",
              "      <th>Monthlyincome</th>\n",
              "      <th>Averageparkingpermonth</th>\n",
              "      <th>Numberofweeklyriders</th>\n",
              "      <th>Unnamed: 5</th>\n",
              "    </tr>\n",
              "  </thead>\n",
              "  <tbody>\n",
              "    <tr>\n",
              "      <th>0</th>\n",
              "      <td>NaN</td>\n",
              "      <td>15</td>\n",
              "      <td>1800000</td>\n",
              "      <td>5800</td>\n",
              "      <td>50</td>\n",
              "      <td>192000</td>\n",
              "    </tr>\n",
              "    <tr>\n",
              "      <th>1</th>\n",
              "      <td>NaN</td>\n",
              "      <td>15</td>\n",
              "      <td>1790000</td>\n",
              "      <td>6200</td>\n",
              "      <td>50</td>\n",
              "      <td>190400</td>\n",
              "    </tr>\n",
              "    <tr>\n",
              "      <th>2</th>\n",
              "      <td>NaN</td>\n",
              "      <td>15</td>\n",
              "      <td>1780000</td>\n",
              "      <td>6400</td>\n",
              "      <td>60</td>\n",
              "      <td>191200</td>\n",
              "    </tr>\n",
              "    <tr>\n",
              "      <th>3</th>\n",
              "      <td>NaN</td>\n",
              "      <td>25</td>\n",
              "      <td>1778000</td>\n",
              "      <td>6500</td>\n",
              "      <td>60</td>\n",
              "      <td>177600</td>\n",
              "    </tr>\n",
              "    <tr>\n",
              "      <th>4</th>\n",
              "      <td>NaN</td>\n",
              "      <td>25</td>\n",
              "      <td>1750000</td>\n",
              "      <td>6550</td>\n",
              "      <td>60</td>\n",
              "      <td>176800</td>\n",
              "    </tr>\n",
              "  </tbody>\n",
              "</table>\n",
              "</div>"
            ],
            "text/plain": [
              "   Priceperweek  Population  ...  Numberofweeklyriders  Unnamed: 5\n",
              "0           NaN          15  ...                    50      192000\n",
              "1           NaN          15  ...                    50      190400\n",
              "2           NaN          15  ...                    60      191200\n",
              "3           NaN          25  ...                    60      177600\n",
              "4           NaN          25  ...                    60      176800\n",
              "\n",
              "[5 rows x 6 columns]"
            ]
          },
          "metadata": {
            "tags": []
          },
          "execution_count": 27
        }
      ]
    },
    {
      "cell_type": "code",
      "metadata": {
        "id": "CR46O_7NxJen",
        "colab_type": "code",
        "colab": {
          "base_uri": "https://localhost:8080/",
          "height": 143
        },
        "outputId": "928ccea1-7dbc-4730-c257-b34e8d0ab89e"
      },
      "source": [
        "df.isnull().sum()"
      ],
      "execution_count": 28,
      "outputs": [
        {
          "output_type": "execute_result",
          "data": {
            "text/plain": [
              "Priceperweek              27\n",
              "Population                 0\n",
              "Monthlyincome              0\n",
              "Averageparkingpermonth     0\n",
              "Numberofweeklyriders       0\n",
              "Unnamed: 5                 0\n",
              "dtype: int64"
            ]
          },
          "metadata": {
            "tags": []
          },
          "execution_count": 28
        }
      ]
    },
    {
      "cell_type": "code",
      "metadata": {
        "id": "j9wrOt2nxJt0",
        "colab_type": "code",
        "colab": {
          "base_uri": "https://localhost:8080/",
          "height": 202
        },
        "outputId": "467e8f6f-0824-436f-df3f-28767cc38d8f"
      },
      "source": [
        "df2 = df.dropna(axis = 1, how ='any')\n",
        "df2.head()"
      ],
      "execution_count": 36,
      "outputs": [
        {
          "output_type": "execute_result",
          "data": {
            "text/html": [
              "<div>\n",
              "<style scoped>\n",
              "    .dataframe tbody tr th:only-of-type {\n",
              "        vertical-align: middle;\n",
              "    }\n",
              "\n",
              "    .dataframe tbody tr th {\n",
              "        vertical-align: top;\n",
              "    }\n",
              "\n",
              "    .dataframe thead th {\n",
              "        text-align: right;\n",
              "    }\n",
              "</style>\n",
              "<table border=\"1\" class=\"dataframe\">\n",
              "  <thead>\n",
              "    <tr style=\"text-align: right;\">\n",
              "      <th></th>\n",
              "      <th>Population</th>\n",
              "      <th>Monthlyincome</th>\n",
              "      <th>Averageparkingpermonth</th>\n",
              "      <th>Numberofweeklyriders</th>\n",
              "      <th>Unnamed: 5</th>\n",
              "    </tr>\n",
              "  </thead>\n",
              "  <tbody>\n",
              "    <tr>\n",
              "      <th>0</th>\n",
              "      <td>15</td>\n",
              "      <td>1800000</td>\n",
              "      <td>5800</td>\n",
              "      <td>50</td>\n",
              "      <td>192000</td>\n",
              "    </tr>\n",
              "    <tr>\n",
              "      <th>1</th>\n",
              "      <td>15</td>\n",
              "      <td>1790000</td>\n",
              "      <td>6200</td>\n",
              "      <td>50</td>\n",
              "      <td>190400</td>\n",
              "    </tr>\n",
              "    <tr>\n",
              "      <th>2</th>\n",
              "      <td>15</td>\n",
              "      <td>1780000</td>\n",
              "      <td>6400</td>\n",
              "      <td>60</td>\n",
              "      <td>191200</td>\n",
              "    </tr>\n",
              "    <tr>\n",
              "      <th>3</th>\n",
              "      <td>25</td>\n",
              "      <td>1778000</td>\n",
              "      <td>6500</td>\n",
              "      <td>60</td>\n",
              "      <td>177600</td>\n",
              "    </tr>\n",
              "    <tr>\n",
              "      <th>4</th>\n",
              "      <td>25</td>\n",
              "      <td>1750000</td>\n",
              "      <td>6550</td>\n",
              "      <td>60</td>\n",
              "      <td>176800</td>\n",
              "    </tr>\n",
              "  </tbody>\n",
              "</table>\n",
              "</div>"
            ],
            "text/plain": [
              "   Population  Monthlyincome  ...  Numberofweeklyriders  Unnamed: 5\n",
              "0          15        1800000  ...                    50      192000\n",
              "1          15        1790000  ...                    50      190400\n",
              "2          15        1780000  ...                    60      191200\n",
              "3          25        1778000  ...                    60      177600\n",
              "4          25        1750000  ...                    60      176800\n",
              "\n",
              "[5 rows x 5 columns]"
            ]
          },
          "metadata": {
            "tags": []
          },
          "execution_count": 36
        }
      ]
    },
    {
      "cell_type": "code",
      "metadata": {
        "id": "IradX64ex4sr",
        "colab_type": "code",
        "colab": {}
      },
      "source": [
        "df2_x = df2.iloc[:,0:-1].values \n",
        "df2_y = df2.iloc[:,-1].values"
      ],
      "execution_count": 39,
      "outputs": []
    },
    {
      "cell_type": "code",
      "metadata": {
        "id": "zicRRzQ_d0GO",
        "colab_type": "code",
        "colab": {
          "base_uri": "https://localhost:8080/",
          "height": 53
        },
        "outputId": "a8558dbf-daba-4d47-fa86-1881dee78680"
      },
      "source": [
        "X_train,  X_test,  y_train,  y_test = train_test_split(df2_x, df2_y,  test_size = 0.3, random_state = 0   )\n",
        "# Splitting the data into training and testing data \n",
        "regr = LinearRegression() \n",
        "regr.fit(X_train, y_train) \n",
        "print(\"training sccore\", regr.score(X_train, y_train))\n",
        "print(\"Test sccore\", regr.score(X_test, y_test))\n"
      ],
      "execution_count": 43,
      "outputs": [
        {
          "output_type": "stream",
          "text": [
            "training sccore 0.9428364724316813\n",
            "Test sccore 0.9157379222488221\n"
          ],
          "name": "stdout"
        }
      ]
    },
    {
      "cell_type": "code",
      "metadata": {
        "id": "xtLsug-SxH8T",
        "colab_type": "code",
        "colab": {}
      },
      "source": [
        "pickle.dump(regr, open('taxi.pkl',  'wb'))"
      ],
      "execution_count": 44,
      "outputs": []
    },
    {
      "cell_type": "code",
      "metadata": {
        "id": "XxdQHsgnfUHG",
        "colab_type": "code",
        "colab": {
          "base_uri": "https://localhost:8080/",
          "height": 35
        },
        "outputId": "151e3216-c61b-4823-ff58-7b8ae4d035b0"
      },
      "source": [
        "model = pickle.load(open('taxi.pkl', 'rb'))\n",
        "print(model.predict( [ [ 177, 10000, 5000, 50 ]]))"
      ],
      "execution_count": 53,
      "outputs": [
        {
          "output_type": "stream",
          "text": [
            "[-135044.14495355]\n"
          ],
          "name": "stdout"
        }
      ]
    },
    {
      "cell_type": "code",
      "metadata": {
        "id": "ABiOqUeQ0Mde",
        "colab_type": "code",
        "colab": {}
      },
      "source": [
        ""
      ],
      "execution_count": null,
      "outputs": []
    }
  ]
}